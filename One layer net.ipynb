{
 "cells": [
  {
   "cell_type": "code",
   "execution_count": 1,
   "metadata": {
    "collapsed": false
   },
   "outputs": [],
   "source": [
    "import numpy as np\n",
    "import matplotlib.pyplot as plt\n",
    "from data import *\n",
    "from minibatch import *\n",
    "\n",
    "%matplotlib inline\n",
    "\n",
    "# for auto-reloading external modules\n",
    "# see http://stackoverflow.com/questions/1907993/autoreload-of-modules-in-ipython\n",
    "%load_ext autoreload\n",
    "%autoreload 2"
   ]
  },
  {
   "cell_type": "markdown",
   "metadata": {},
   "source": [
    "## Get data from dataset5"
   ]
  },
  {
   "cell_type": "code",
   "execution_count": 2,
   "metadata": {
    "collapsed": false
   },
   "outputs": [
    {
     "name": "stdout",
     "output_type": "stream",
     "text": [
      "Total number of images in dataset5:  65774\n",
      "Train data size:  61540\n",
      "Train label size:  62540\n",
      "Validation data size:  1000\n",
      "Validation label size:  1000\n",
      "Test data size:  3234\n",
      "Test label size:  3234\n"
     ]
    }
   ],
   "source": [
    "dataset = get_dataset()\n",
    "\n",
    "train_data, train_label_onehot, validation_data, validation_label_onehot, test_data, test_label_onehot \\\n",
    "    = split_train_validation_test(dataset)\n",
    "    \n",
    "X_validation, y_validation = get_data(validation_data, validation_label_onehot)"
   ]
  },
  {
   "cell_type": "markdown",
   "metadata": {},
   "source": [
    "## One Layer Model"
   ]
  },
  {
   "cell_type": "code",
   "execution_count": 13,
   "metadata": {
    "collapsed": false
   },
   "outputs": [],
   "source": [
    "from minibatch import *\n",
    "\n",
    "import tensorflow as tf\n",
    "\n",
    "D = 43200 #120*120*3\n",
    "\n",
    "X = tf.placeholder(tf.float32, [None, WIDTH, HEIGHT, 3])\n",
    "W = tf.Variable(tf.zeros([D, C]))\n",
    "b = tf.Variable(tf.zeros([C]))\n",
    "\n",
    "#regularization\n",
    "gamma = 0.01\n",
    "\n",
    "regularizer = tf.nn.l2_loss(W)\n",
    "\n",
    "# model\n",
    "logits = tf.matmul(tf.reshape(X, [-1, D]), W) + b\n",
    "\n",
    "# placeholder for correct labels\n",
    "Y_ = tf.placeholder(tf.float32, [None, C])\n",
    "\n",
    "# loss function\n",
    "cross_entropy = tf.reduce_mean(tf.nn.softmax_cross_entropy_with_logits(logits = logits, labels = Y_))\n",
    "total_loss = cross_entropy + gamma*regularizer\n",
    "\n",
    "# % of correct answers found in batch\n",
    "is_correct = tf.equal(tf.argmax(logits,1), tf.argmax(Y_,1))\n",
    "accuracy = tf.reduce_mean(tf.cast(is_correct, tf.float32))\n",
    "\n",
    "optimizer = tf.train.AdamOptimizer(learning_rate = 0.003,  beta1=0.9, beta2=0.999)\n",
    "train_step = optimizer.minimize(total_loss)\n",
    "\n",
    "# Saver\n",
    "saver = tf.train.Saver()"
   ]
  },
  {
   "cell_type": "code",
   "execution_count": 14,
   "metadata": {
    "collapsed": false
   },
   "outputs": [
    {
     "name": "stdout",
     "output_type": "stream",
     "text": [
      "number of batch =  480\n",
      "50 :  train loss =  830.989 ; train accuracy =  0.585938 ; validation accuracy =  0.514\n",
      "100 :  train loss =  674.453 ; train accuracy =  0.578125 ; validation accuracy =  0.558\n",
      "150 :  train loss =  538.356 ; train accuracy =  0.65625 ; validation accuracy =  0.567\n",
      "200 :  train loss =  567.149 ; train accuracy =  0.648438 ; validation accuracy =  0.629\n",
      "250 :  train loss =  620.048 ; train accuracy =  0.695312 ; validation accuracy =  0.638\n",
      "300 :  train loss =  622.852 ; train accuracy =  0.65625 ; validation accuracy =  0.655\n",
      "350 :  train loss =  353.291 ; train accuracy =  0.796875 ; validation accuracy =  0.643\n",
      "400 :  train loss =  574.698 ; train accuracy =  0.703125 ; validation accuracy =  0.642\n",
      "450 :  train loss =  423.544 ; train accuracy =  0.84375 ; validation accuracy =  0.701\n",
      "50 :  train loss =  574.599 ; train accuracy =  0.71875 ; validation accuracy =  0.689\n",
      "100 :  train loss =  348.975 ; train accuracy =  0.804688 ; validation accuracy =  0.701\n",
      "150 :  train loss =  491.217 ; train accuracy =  0.734375 ; validation accuracy =  0.701\n",
      "200 :  train loss =  675.476 ; train accuracy =  0.757812 ; validation accuracy =  0.698\n",
      "250 :  train loss =  463.259 ; train accuracy =  0.742188 ; validation accuracy =  0.697\n",
      "300 :  train loss =  398.777 ; train accuracy =  0.765625 ; validation accuracy =  0.712\n",
      "350 :  train loss =  305.343 ; train accuracy =  0.789062 ; validation accuracy =  0.697\n",
      "400 :  train loss =  420.997 ; train accuracy =  0.75 ; validation accuracy =  0.739\n",
      "450 :  train loss =  470.033 ; train accuracy =  0.773438 ; validation accuracy =  0.72\n",
      "Model saved in file: ./tmp/one_layer/model_1layer_adam.ckpt\n"
     ]
    }
   ],
   "source": [
    "BATCH_SIZE = 128\n",
    "NUMBER_BATCH = int(len(train_data)/BATCH_SIZE)\n",
    "EPOCHS = 2\n",
    "\n",
    "print(\"number of batch = \", NUMBER_BATCH)\n",
    "\n",
    "train_losses = []\n",
    "train_accuracies = []\n",
    "validation_accuracies = []\n",
    "\n",
    "#Initialisation\n",
    "init = tf.global_variables_initializer()\n",
    "\n",
    "with tf.Session() as sess:\n",
    "    sess.run(init)\n",
    "\n",
    "    for _ in range(EPOCHS):\n",
    "        for i in range(NUMBER_BATCH):\n",
    "            # load batch of images and correct answers\n",
    "\n",
    "            batch_X, batch_Y = get_batch(train_data, train_label_onehot, batch_number=i)\n",
    "            batch_data = {X: batch_X, Y_: batch_Y}\n",
    "\n",
    "            # train\n",
    "            sess.run(train_step, feed_dict=batch_data)\n",
    "\n",
    "            if i > 0 and i % 50 == 0:\n",
    "                train_a, loss = sess.run([accuracy, total_loss], feed_dict=batch_data)\n",
    "                train_losses.append(loss)\n",
    "                train_accuracies.append(train_a)\n",
    "\n",
    "                valid_a = sess.run(accuracy, feed_dict={X: X_validation, Y_: y_validation})\n",
    "                validation_accuracies.append(valid_a)\n",
    "\n",
    "                print(i, \":\", \" train loss = \", loss, \"; train accuracy = \", train_a, \"; validation accuracy = \", valid_a)\n",
    "\n",
    "                # Save the variables to disk.\n",
    "    save_path = saver.save(sess, \"./tmp/one_layer/model_1layer_adam.ckpt\")\n",
    "    print(\"Model saved in file: %s\" % save_path)"
   ]
  },
  {
   "cell_type": "markdown",
   "metadata": {},
   "source": [
    "## Result on Test"
   ]
  },
  {
   "cell_type": "code",
   "execution_count": 16,
   "metadata": {
    "collapsed": false
   },
   "outputs": [
    {
     "name": "stdout",
     "output_type": "stream",
     "text": [
      "INFO:tensorflow:Restoring parameters from ./tmp/one_layer/model_1layer_adam.ckpt\n",
      "Model restored.\n",
      "final test accuracy =  0.707792207866\n"
     ]
    }
   ],
   "source": [
    "def test_accuracy(model_path):\n",
    "    with tf.Session() as sess:\n",
    "        # Restore variables from disk.\n",
    "        saver.restore(sess, model_path)\n",
    "        print(\"Model restored.\")\n",
    "        N = len(test_data)    \n",
    "        batch_size = 128\n",
    "        batch_number = int(N/batch_size) + 1\n",
    "        sum_correct = 0.\n",
    "        for i in range(batch_number):\n",
    "            batch_X, batch_Y = get_batch(test_data, test_label_onehot, i)\n",
    "            n = batch_X.shape[0]\n",
    "            a = sess.run(accuracy, feed_dict={X: batch_X, Y_: batch_Y})\n",
    "            sum_correct += a*n\n",
    "        \n",
    "        test_accuracy = sum_correct/N\n",
    "        print(\"final test accuracy = \", test_accuracy)\n",
    "        \n",
    "test_accuracy(\"./tmp/one_layer/model_1layer_adam.ckpt\")"
   ]
  },
  {
   "cell_type": "code",
   "execution_count": 15,
   "metadata": {
    "collapsed": false
   },
   "outputs": [
    {
     "data": {
      "text/plain": [
       "<matplotlib.text.Text at 0x7ff7733f1f98>"
      ]
     },
     "execution_count": 15,
     "metadata": {},
     "output_type": "execute_result"
    },
    {
     "data": {
      "image/png": "[encoded data removed]",
      "text/plain": [
       "<matplotlib.figure.Figure at 0x7ff77c74fd68>"
      ]
     },
     "metadata": {},
     "output_type": "display_data"
    }
   ],
   "source": [
    "plt.plot(np.arange(len(train_losses))*50,train_losses)\n",
    "plt.title(\"training losses (10 epoches)\")\n",
    "plt.xlabel(\"batch number\")"
   ]
  },
  {
   "cell_type": "code",
   "execution_count": 89,
   "metadata": {
    "collapsed": true
   },
   "outputs": [],
   "source": [
    "import pandas as pd"
   ]
  },
  {
   "cell_type": "code",
   "execution_count": 90,
   "metadata": {
    "collapsed": false
   },
   "outputs": [],
   "source": [
    "results = pd.DataFrame({ \n",
    "    \"losses\":losses, \n",
    "    \"train_accuracies\":train_accuracies,\n",
    "    \"validation_accuracies\":validation_accuracies\n",
    "    })\n",
    "results.to_csv(\"./results/one_layer_1_adam.csv\")"
   ]
  }
 ],
 "metadata": {
  "kernelspec": {
   "display_name": "Python 3",
   "language": "python",
   "name": "python3"
  },
  "language_info": {
   "codemirror_mode": {
    "name": "ipython",
    "version": 3.0
   },
   "file_extension": ".py",
   "mimetype": "text/x-python",
   "name": "python",
   "nbconvert_exporter": "python",
   "pygments_lexer": "ipython3",
   "version": "3.6.0"
  }
 },
 "nbformat": 4,
 "nbformat_minor": 0
}